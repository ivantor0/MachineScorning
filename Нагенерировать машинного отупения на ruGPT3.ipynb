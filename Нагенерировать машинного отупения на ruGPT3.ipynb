{
  "nbformat": 4,
  "nbformat_minor": 0,
  "metadata": {
    "accelerator": "GPU",
    "colab": {
      "name": "Нагенерировать машинного отупения на ruGPT3.ipynb",
      "provenance": [],
      "collapsed_sections": [
        "9IH1cb0oGkXP"
      ]
    },
    "kernelspec": {
      "display_name": "Python 3",
      "name": "python3"
    }
  },
  "cells": [
    {
      "cell_type": "markdown",
      "metadata": {
        "id": "YONnGjpAYUdU"
      },
      "source": [
        "\n",
        "<a href=\"https://colab.research.google.com/github/isikus/MachineScorning/blob/main/Нагенерировать%20машинного%20отупения%20на%20ruGPT3.ipynb\" target=\"_parent\"><img src=\"https://colab.research.google.com/assets/colab-badge.svg\" alt=\"Open In Colab\"/></a>"
      ]
    },
    {
      "cell_type": "markdown",
      "metadata": {
        "id": "3RHDK81QqrET"
      },
      "source": [
        "# Нагенерировать машинного отупения на ruGPT3"
      ]
    },
    {
      "cell_type": "markdown",
      "metadata": {
        "id": "BmYKXDNTZS9n"
      },
      "source": [
        "Получить свой бредовый текст, прямо как в канале [Машинное отупение](https://t.me/MachineScorning)!"
      ]
    },
    {
      "cell_type": "code",
      "metadata": {
        "colab": {
          "base_uri": "https://localhost:8080/"
        },
        "id": "on7W1zhwAaKS",
        "cellView": "form",
        "outputId": "669e6e6f-358c-4495-9def-bcbc181d8101"
      },
      "source": [
        "import os\r\n",
        "import json\r\n",
        "\r\n",
        "def is_empty(fpath, default_lines=[[\"Дополни эту фразу\", \"И эту фразу тоже дополни\"], [\"Первый пример запроса\", \"Из нескольких строк\", \"\", \"И второй пример\", \"Я тоже придумать смог\"]]):\r\n",
        "  if not os.path.isfile(fpath):\r\n",
        "    return True\r\n",
        "  if not (os.path.getsize(fpath) > 0):\r\n",
        "    return True\r\n",
        "  if default_lines:\r\n",
        "    with open(fpath, \"r\") as infile:\r\n",
        "      lines = infile.read().split(\"\\n\")\r\n",
        "    for deflines in default_lines:\r\n",
        "      if lines == deflines:\r\n",
        "        return True\r\n",
        "  return False\r\n",
        "  \r\n",
        "\r\n",
        "def get_lbc(model_meta):\r\n",
        "  lbc = model_meta[\"line_break_character\"]\r\n",
        "  lbc = lbc.replace(\"\\s\", \" \")\r\n",
        "  return lbc\r\n",
        "\r\n",
        "#@markdown Для начала выберите модель:\r\n",
        "\r\n",
        "Модель = \"Нейросвояк\"  #@param [\"Нейроописания товаров\", \"Нейроинструкции на все случаи жизни\", \"Нейротексты «Короля и Шута»\", \"Нейроновости Северной Кореи\", \"Нейропоздравления с новым годом\", \"Нейроюморески\", \"Нейросвояк\"]\r\n",
        "\r\n",
        "desc_dict = {\r\n",
        "    \"Нейроописания товаров\": \"products_desc\",\r\n",
        "    \"Нейроинструкции на все случаи жизни\": \"wikihowto\",\r\n",
        "    \"Нейротексты «Короля и Шута»\": \"kishverses\",\r\n",
        "    \"Нейроновости Северной Кореи\": \"rukcna\",\r\n",
        "    \"Нейропоздравления с новым годом\": \"greetings\",\r\n",
        "    \"Нейроюморески\": \"neurojumoreski\",\r\n",
        "    \"Нейросвояк\": \"neurosvoyak\"\r\n",
        "}\r\n",
        "\r\n",
        "model = desc_dict[Модель]\r\n",
        "\r\n",
        "!wget -q --show-progress https://storage.googleapis.com/ml-bucket-isikus/machine-scorning/{model}.tar.gz\r\n",
        "!mkdir {model}\r\n",
        "!tar -xzf {model}.tar.gz -C {model}\r\n",
        "\r\n",
        "try:\r\n",
        "  with open(model+\"/meta.json\", \"r\") as injson:\r\n",
        "    model_meta = json.load(injson)\r\n",
        "  print('\\x1b[1m'+Модель + \": модель подготовлена\"+'\\x1b[0m')\r\n",
        "except Exception as e:\r\n",
        "  print('\\x1b[1;31m'+\"Что-то сломалось – модель не готова :(\"+'\\x1b[0m')"
      ],
      "execution_count": 1,
      "outputs": [
        {
          "output_type": "stream",
          "text": [
            "neurosvoyak.tar.gz  100%[===================>] 443.70M   117MB/s    in 4.0s    \n",
            "\u001b[1mНейросвояк: модель подготовлена\u001b[0m\n"
          ],
          "name": "stdout"
        }
      ]
    },
    {
      "cell_type": "markdown",
      "metadata": {
        "id": "fk5AMR1q5ifP"
      },
      "source": [
        "Теперь запишите варианты начала сообщений, которые должна дополнить модель, сразу под текстом `%%writefile input.txt`, по 1 разному началу на строку:"
      ]
    },
    {
      "cell_type": "code",
      "metadata": {
        "colab": {
          "base_uri": "https://localhost:8080/"
        },
        "id": "WOisDCMa5QZR",
        "outputId": "76888397-d070-4abc-d81f-203fce0f68d3"
      },
      "source": [
        "%%writefile input.txt\r\n",
        "Дополни эту фразу\r\n",
        "И эту фразу тоже дополни"
      ],
      "execution_count": 2,
      "outputs": [
        {
          "output_type": "stream",
          "text": [
            "Writing input.txt\n"
          ],
          "name": "stdout"
        }
      ]
    },
    {
      "cell_type": "markdown",
      "metadata": {
        "id": "8Y1U_F98ROVS"
      },
      "source": [
        "**Важно:** если ваши запросы содержат переносы строк (например, это начало стихотворения), вместо предыдущей клетки, заполните клетку ниже, разбивая ваш ввод двумя переносами строк. Код ниже заменит переносы строк на специальный символ – это необходимо для корректной работы модели."
      ]
    },
    {
      "cell_type": "code",
      "metadata": {
        "colab": {
          "base_uri": "https://localhost:8080/"
        },
        "id": "yK0q8R0uR3gs",
        "outputId": "53195c9f-ae91-4bd4-a9de-4073d996d760"
      },
      "source": [
        "%%writefile input_with_lines.txt\r\n",
        "Первый пример запроса\r\n",
        "Из нескольких строк\r\n",
        "\r\n",
        "И второй пример\r\n",
        "Я тоже придумать смог"
      ],
      "execution_count": 3,
      "outputs": [
        {
          "output_type": "stream",
          "text": [
            "Writing input_with_lines.txt\n"
          ],
          "name": "stdout"
        }
      ]
    },
    {
      "cell_type": "markdown",
      "metadata": {
        "id": "BBU-YKC4ZL_d"
      },
      "source": [
        "Если у вас совсем нет идей, запустите код ниже – он скачает примеры запросов по умолчанию для вашей модели:"
      ]
    },
    {
      "cell_type": "code",
      "metadata": {
        "id": "_Ks9smG9YJUk",
        "colab": {
          "base_uri": "https://localhost:8080/"
        },
        "outputId": "9b32d994-35a6-4c40-d37e-ebd78df3fee2"
      },
      "source": [
        "if is_empty(\"input.txt\") and is_empty(\"input_with_lines.txt\"):\n",
        "  !cp {model}/example_input.txt input.txt\n",
        "  print('\\x1b[1;31m'+\"Загружены примеры по умолчанию\"+'\\x1b[0m')"
      ],
      "execution_count": 4,
      "outputs": [
        {
          "output_type": "stream",
          "text": [
            "\u001b[1;31mЗагружены примеры по умолчанию\u001b[0m\n"
          ],
          "name": "stdout"
        }
      ]
    },
    {
      "cell_type": "code",
      "metadata": {
        "cellView": "form",
        "id": "NVDPUK2wGvpl"
      },
      "source": [
        "#@markdown Наконец, укажите, сколько вариантов выдачи нужно сгенерировать модели на каждый из запросов (от 1 до 30):\r\n",
        "\r\n",
        "Повторов =   3#@param {\"type\": \"integer\"}\r\n",
        "takes = Повторов\r\n",
        "\r\n",
        "if takes < 1:\r\n",
        "  takes = 1\r\n",
        "  print(\"Это маловато. Установили значение \" + str(takes) + \".\")\r\n",
        "if takes > 30:\r\n",
        "  takes = 30\r\n",
        "  print(\"Это многовато. Установили значение \" + str(takes) + \".\")\r\n",
        "if type(takes) != int:\r\n",
        "  takes = 4\r\n",
        "  print(\"Что-то пошло не так. Установили значение \" + str(takes) + \".\")"
      ],
      "execution_count": 5,
      "outputs": []
    },
    {
      "cell_type": "markdown",
      "metadata": {
        "id": "9IH1cb0oGkXP"
      },
      "source": [
        "## Подготавливаем среду для модели\r\n",
        "Сами файлы скачаны, но нужно ещё выполнить код, чтобы подготовить модель к работе."
      ]
    },
    {
      "cell_type": "markdown",
      "metadata": {
        "id": "Y4l_N3Rw_7AJ"
      },
      "source": [
        "Проверяем, что мы подключены к видеокарте: команда в клетке ниже должна работать и показывать показывать примерно 12000-15000 Мб свободной памяти:"
      ]
    },
    {
      "cell_type": "code",
      "metadata": {
        "colab": {
          "base_uri": "https://localhost:8080/"
        },
        "id": "Kd1B5BJB_thJ",
        "outputId": "268fd337-a6a8-4ed9-c4ae-ab690449f0cd"
      },
      "source": [
        "!nvidia-smi"
      ],
      "execution_count": 6,
      "outputs": [
        {
          "output_type": "stream",
          "text": [
            "Sun Mar 14 12:21:58 2021       \n",
            "+-----------------------------------------------------------------------------+\n",
            "| NVIDIA-SMI 460.56       Driver Version: 460.32.03    CUDA Version: 11.2     |\n",
            "|-------------------------------+----------------------+----------------------+\n",
            "| GPU  Name        Persistence-M| Bus-Id        Disp.A | Volatile Uncorr. ECC |\n",
            "| Fan  Temp  Perf  Pwr:Usage/Cap|         Memory-Usage | GPU-Util  Compute M. |\n",
            "|                               |                      |               MIG M. |\n",
            "|===============================+======================+======================|\n",
            "|   0  Tesla T4            Off  | 00000000:00:04.0 Off |                    0 |\n",
            "| N/A   58C    P8    11W /  70W |      0MiB / 15109MiB |      0%      Default |\n",
            "|                               |                      |                  N/A |\n",
            "+-------------------------------+----------------------+----------------------+\n",
            "                                                                               \n",
            "+-----------------------------------------------------------------------------+\n",
            "| Processes:                                                                  |\n",
            "|  GPU   GI   CI        PID   Type   Process name                  GPU Memory |\n",
            "|        ID   ID                                                   Usage      |\n",
            "|=============================================================================|\n",
            "|  No running processes found                                                 |\n",
            "+-----------------------------------------------------------------------------+\n"
          ],
          "name": "stdout"
        }
      ]
    },
    {
      "cell_type": "markdown",
      "metadata": {
        "id": "Xa62C9TeU_U5"
      },
      "source": [
        "Устанавливаем нужные версии библиотек:"
      ]
    },
    {
      "cell_type": "code",
      "metadata": {
        "colab": {
          "base_uri": "https://localhost:8080/"
        },
        "id": "asqMueYPeIgK",
        "outputId": "3c7af0d5-f6e8-4355-ac17-c9b667b429ed"
      },
      "source": [
        "!pip3 install -q urllib3==1.25.4 transformers==2.8.0\r\n",
        "\r\n",
        "print('\\n'+'\\x1b[1m'+\"Требуемые версии пакетов установлены\"+'\\x1b[0m')"
      ],
      "execution_count": 7,
      "outputs": [
        {
          "output_type": "stream",
          "text": [
            "\u001b[?25l\r\u001b[K     |██▋                             | 10kB 28.1MB/s eta 0:00:01\r\u001b[K     |█████▏                          | 20kB 32.8MB/s eta 0:00:01\r\u001b[K     |███████▉                        | 30kB 24.2MB/s eta 0:00:01\r\u001b[K     |██████████▍                     | 40kB 27.7MB/s eta 0:00:01\r\u001b[K     |█████████████                   | 51kB 28.7MB/s eta 0:00:01\r\u001b[K     |███████████████▋                | 61kB 31.5MB/s eta 0:00:01\r\u001b[K     |██████████████████▎             | 71kB 20.2MB/s eta 0:00:01\r\u001b[K     |████████████████████▉           | 81kB 21.6MB/s eta 0:00:01\r\u001b[K     |███████████████████████▌        | 92kB 19.9MB/s eta 0:00:01\r\u001b[K     |██████████████████████████      | 102kB 20.1MB/s eta 0:00:01\r\u001b[K     |████████████████████████████▊   | 112kB 20.1MB/s eta 0:00:01\r\u001b[K     |███████████████████████████████▎| 122kB 20.1MB/s eta 0:00:01\r\u001b[K     |████████████████████████████████| 133kB 20.1MB/s \n",
            "\u001b[K     |████████████████████████████████| 573kB 37.9MB/s \n",
            "\u001b[K     |████████████████████████████████| 5.6MB 51.3MB/s \n",
            "\u001b[K     |████████████████████████████████| 890kB 45.1MB/s \n",
            "\u001b[K     |████████████████████████████████| 133kB 60.5MB/s \n",
            "\u001b[K     |████████████████████████████████| 1.2MB 53.5MB/s \n",
            "\u001b[K     |████████████████████████████████| 7.3MB 51.6MB/s \n",
            "\u001b[K     |████████████████████████████████| 71kB 9.9MB/s \n",
            "\u001b[?25h  Building wheel for sacremoses (setup.py) ... \u001b[?25l\u001b[?25hdone\n",
            "\u001b[31mERROR: datascience 0.10.6 has requirement folium==0.2.1, but you'll have folium 0.8.3 which is incompatible.\u001b[0m\n",
            "\n",
            "\u001b[1mТребуемые версии пакетов установлены\u001b[0m\n"
          ],
          "name": "stdout"
        }
      ]
    },
    {
      "cell_type": "markdown",
      "metadata": {
        "id": "iT0Njx_J8gsw"
      },
      "source": [
        "Скачиваем файл с исходным кодом для работы модели:"
      ]
    },
    {
      "cell_type": "code",
      "metadata": {
        "colab": {
          "base_uri": "https://localhost:8080/"
        },
        "id": "mpkjTWefecLc",
        "outputId": "f0ebb971-30b3-4c8f-efb8-a54cb56ccfdc"
      },
      "source": [
        "!wget -q --show-progress https://raw.githubusercontent.com/sberbank-ai/ru-gpts/master/generate_transformers.py\r\n",
        "\r\n",
        "print('\\n'+'\\x1b[1m'+\"Код запуска модели загружен\"+'\\x1b[0m')"
      ],
      "execution_count": 8,
      "outputs": [
        {
          "output_type": "stream",
          "text": [
            "\rgenerate_transforme   0%[                    ]       0  --.-KB/s               \rgenerate_transforme 100%[===================>]  10.23K  --.-KB/s    in 0s      \n",
            "\n",
            "\u001b[1mКод запуска модели загружен\u001b[0m\n"
          ],
          "name": "stdout"
        }
      ]
    },
    {
      "cell_type": "markdown",
      "metadata": {
        "id": "h6tgF3M_WKgL"
      },
      "source": [
        "Запускаем код, необходимый для преобразования файлов и отображения выдачи:"
      ]
    },
    {
      "cell_type": "code",
      "metadata": {
        "colab": {
          "base_uri": "https://localhost:8080/"
        },
        "id": "OLQ0nauvOR6K",
        "outputId": "58448892-99b1-477d-d363-a64f784d19ce"
      },
      "source": [
        "import re\r\n",
        "import os\r\n",
        "import sys\r\n",
        "import json\r\n",
        "import random\r\n",
        "from datetime import datetime\r\n",
        "\r\n",
        "from IPython.display import Markdown, display\r\n",
        "\r\n",
        "def printmd(string):\r\n",
        "    display(Markdown(string))\r\n",
        "\r\n",
        "with open(model+\"/meta.json\", \"r\") as injson:\r\n",
        "  model_meta = json.load(injson)\r\n",
        "\r\n",
        "# converting inputs\r\n",
        "\r\n",
        "s = \"\"\r\n",
        "\r\n",
        "if not is_empty(\"input_with_lines.txt\"):\r\n",
        "  with open(\"input_with_lines.txt\", \"r\", encoding=\"utf-8\") as intxt:\r\n",
        "    prompts = [get_lbc(model_meta).join([sp for sp in p.split(\"\\n\") if sp]) for p in intxt.read().split(\"\\n\\n\") if p]\r\n",
        "else:\r\n",
        "  with open(\"input.txt\", \"r\", encoding=\"utf-8\") as intxt:\r\n",
        "    prompts = [p for p in intxt.read().split(\"\\n\") if p]\r\n",
        "\r\n",
        "for prompt in prompts:\r\n",
        "  s += (model_meta['prompt'] % prompt + '\\n') * takes\r\n",
        "\r\n",
        "with open(\"rawi.txt\", \"w\", encoding=\"utf-8\") as rawo:\r\n",
        "  rawo.write(s)\r\n",
        "\r\n",
        "print('\\x1b[1m'+\"Среда подготовлена\"+'\\x1b[0m')"
      ],
      "execution_count": 9,
      "outputs": [
        {
          "output_type": "stream",
          "text": [
            "\u001b[1mСреда подготовлена\u001b[0m\n"
          ],
          "name": "stdout"
        }
      ]
    },
    {
      "cell_type": "markdown",
      "metadata": {
        "id": "DP7YAlDPqknI"
      },
      "source": [
        "## Генерируем отупение\r\n",
        "\r\n",
        "Теперь всё, наконец, готово к тому, чтобы модель сгенерировала нам выдачу. То, насколько серьёзный и осмысленный текст будет пытаться выдавать модель, можно регулировать по шкале **`Бредовость`**: здесь есть 5 степеней – от самой нормальной до самой странной (я предупреждал). Кроме этого, флажок **`Повторяться`** определяет, как будет работать модель: если галочку оставить, то первый результат будет очень похож не те, что есть в канале, а последующие будут с ним совпадать. А если снять галочку, то выдача модели каждый раз будет новая. Удачи!"
      ]
    },
    {
      "cell_type": "code",
      "metadata": {
        "colab": {
          "base_uri": "https://localhost:8080/",
          "height": 1000
        },
        "id": "i82pDH4MYTKl",
        "cellView": "form",
        "outputId": "21340f94-d541-417d-fe17-b2b9215a0b0d"
      },
      "source": [
        "#@markdown ### Начать генерацию!\r\n",
        "\r\n",
        "Бредовость = 25 #@param {type: \"slider\", min: 0, max: 100, step: 25}\r\n",
        "stlv = Бредовость\r\n",
        "\r\n",
        "stup_cases = {\r\n",
        "    0: {\"k\": 5, \"p\": 0.95, \"temp\": 1.0},\r\n",
        "    25: {\"k\": 5, \"p\": 0.93, \"temp\": 2.0},\r\n",
        "    50: {\"k\": 6, \"p\": 0.91, \"temp\": 3.0},\r\n",
        "    75: {\"k\": 6, \"p\": 0.9, \"temp\": 4.0},\r\n",
        "    100: {\"k\": 7, \"p\": 0.88, \"temp\": 5.0}\r\n",
        "}\r\n",
        "\r\n",
        "Повторяться = True   # @param {\"type\": \"boolean\"}\r\n",
        "add_randomness = not Повторяться\r\n",
        "\r\n",
        "rs = random.choice(list(range(0, 10000))) if add_randomness else 42\r\n",
        "printmd(\"Ключ случайного значения: **\"+str(rs)+\"**\")\r\n",
        "\r\n",
        "responses = !python generate_transformers.py \\\r\n",
        "    --model_type=gpt2 \\\r\n",
        "    --model_name_or_path={model} \\\r\n",
        "    --k={str(stup_cases[stlv][\"k\"])} \\\r\n",
        "    --p={str(stup_cases[stlv][\"p\"])} \\\r\n",
        "    --seed={str(rs)} \\\r\n",
        "    --temperature={str(stup_cases[stlv][\"temp\"])} \\\r\n",
        "    --repetition_penalty=1.0 \\\r\n",
        "    --stop_token=\"{model_meta['sequence_end_character']}\" \\\r\n",
        "    --length=500 < rawi.txt 2>/dev/null\r\n",
        "\r\n",
        "responses = \"\\n\".join(list(responses))\r\n",
        "\r\n",
        "lbc = model_meta[\"line_break_character\"]\r\n",
        "ssc = model_meta[\"sequence_start_character\"]\r\n",
        "sec = model_meta[\"sequence_end_character\"]\r\n",
        "prompt = re.sub(r\"%[a-z]+\", \"(.*?)\", model_meta[\"prompt\"])\r\n",
        "\r\n",
        "resps = [r for r in responses.split(\"Context >>> ruGPT:\\n\") if r]\r\n",
        "sps = [sp for sp in s.split(\"\\n\") if sp]\r\n",
        "for sp, resp in zip(sps, resps):\r\n",
        "  pt = re.search(re.sub(r\"%[a-z]+\", \"(.*)\", re.escape(model_meta[\"prompt\"])), sp).group(1)\r\n",
        "  rs, _ = re.findall(re.compile(re.escape(sp) + r\"\\n?(.*?)(\" + ssc + \"|$)\", flags=re.DOTALL), resp)[0]\r\n",
        "  pt = \"<br>\".join(\"<b>\" + p + \"</b>\" for p in re.split(lbc, pt) if p)\r\n",
        "  printmd(pt)\r\n",
        "  rs = re.sub(lbc, \"<br>\", rs).strip()\r\n",
        "  rs = re.sub(r\"([^\\s])<br>([^\\s])\", r\"\\1 <br> \\2\", rs)\r\n",
        "  if Модель == \"Нейросвояк\":\r\n",
        "    rs = re.sub(r\"\\s([0-9]0?)\\.\", r\"<br><br>\\1\\\\.\", rs)\r\n",
        "    rs = rs.replace(\"1. \", \"1\\. \")\r\n",
        "    rs = re.sub(r\"\\s((?:Ответ: )|(?:Источник[а-яё()]: ))\", r\"<br>\\1\", rs)\r\n",
        "    sq = re.search(r\"Автор[а-яё()]?: \", rs)\r\n",
        "    if sq:\r\n",
        "      rs = rs[:sq.start() - 1]\r\n",
        "  rse = len(rs) if rs.find(\"Context >>\") == -1 else rs.find(\"Context >>\")\r\n",
        "  printmd(rs[:rse] + \"<br>\")"
      ],
      "execution_count": 15,
      "outputs": [
        {
          "output_type": "display_data",
          "data": {
            "text/markdown": "Ключ случайного значения: **42**",
            "text/plain": [
              "<IPython.core.display.Markdown object>"
            ]
          },
          "metadata": {
            "tags": []
          }
        },
        {
          "output_type": "display_data",
          "data": {
            "text/markdown": "<b>ТЕМА КОНЬЯ</b>",
            "text/plain": [
              "<IPython.core.display.Markdown object>"
            ]
          },
          "metadata": {
            "tags": []
          }
        },
        {
          "output_type": "display_data",
          "data": {
            "text/markdown": "1\\. В стихотворении Михаила Светлова ОН назван \"Кузнец в тигровой шкуре\".<br>Ответ: Кий.<br><br>2\\. По словам героя песни, ЭТОТ КОМБИНАТОР, будучи в командировке, \"написал стихотворение, в котором описал свой быт в Сибири, трудовые подвиги, которые он совершил\".<br>Ответ: Сергей Есенин.<br><br>3\\. ЭТОМУ ЧЕЛОВЕКУ, жившему в начале XX века в Петербурге, в начале 1920-х годов пришла на ум фраза из фильма \"Москва слезам не верит\".<br>Ответ: Николай Гумилёв.<br><br>4\\. В ответе — два существительных. Согласно русской пословице, К НЕМУ приходит беда, если к нему никто не пришел.<br><br>5\\. В стихотворении Владимира Маяковского ОН \"приходит в контору с пустыми руками\".... <br>Ответ: Кузнец (песня \"Принеси хлеба и зрелищ\").<br>",
            "text/plain": [
              "<IPython.core.display.Markdown object>"
            ]
          },
          "metadata": {
            "tags": []
          }
        },
        {
          "output_type": "display_data",
          "data": {
            "text/markdown": "<b>ТЕМА КОНЬЯ</b>",
            "text/plain": [
              "<IPython.core.display.Markdown object>"
            ]
          },
          "metadata": {
            "tags": []
          }
        },
        {
          "output_type": "display_data",
          "data": {
            "text/markdown": "1\\. ОН был сыном крестьянина и получил свое имя по имени его матери-одиночки.<br>Ответ: КОНЕЦ.<br><br>2\\. ЭТУ КОНФЕТУ в конце 80-х годов XIX века изобрела советская теннисистка Ольга Неумывакина в Ташкенте.<br>Ответ: БРАЗИЛИЯ [зачет: БАРЗИЛИЯ]<br><br>3\\. Именно в этот период времени в России начала формироваться концепция о том, что в семье должен быть минимум три обезьяны.<br>Ответ: К концу 19 века (требовалась четкая привязка к семье — как к обезьяне).<br><br>4\\. ЭТО СЛОВО первоначально обозначало \"конюшне\", а в 17 в. его часто называют просто \"кружком\".<br>Ответ: КОРОБКУ.<br><br>5\\. ЭТОТ КАНАДЕЦ династии Мин в 1686 году подарил свою жену Екатерину Алексеевну, сестру Александра I, а в 1812 г. был назначен членом верховного совета русской армией.... <br>Ответ: КОНСТАНТИН I.<br>",
            "text/plain": [
              "<IPython.core.display.Markdown object>"
            ]
          },
          "metadata": {
            "tags": []
          }
        },
        {
          "output_type": "display_data",
          "data": {
            "text/markdown": "<b>ТЕМА КОНЬЯ</b>",
            "text/plain": [
              "<IPython.core.display.Markdown object>"
            ]
          },
          "metadata": {
            "tags": []
          }
        },
        {
          "output_type": "display_data",
          "data": {
            "text/markdown": "1\\. ЭТОТ КАНАДЕЦ был убит на дуэли в 1572 году, после того как был захвачен на королевский суд.<br>Ответ: Генрих II Капет (зачет: Генрих III Тюдор и т.д.).<br><br>2\\. В ЭТОМ РОМАНЕ рассказывается, что некий барон в отчаянии от безысходности отправился на север и нашел там заброшенный дом.<br>Ответ: \"Кон-Тики\".<br><br>3\\. В ЭТОМ РОМАНЕ рассказывается, что некая принцесса сбежала с корабля на корабле, который вез ее в страну сказок и приключений.<br>Ответ: \"Муми-троллей\".<br><br>4\\. ТАК называлась статья английского ученого-ботаника Уильяма Теккерея о том, что некоторые виды растений способны менять цвет под воздействием солнечного ультрафора и поэтому должны обладать ЭТИМ НАПИТКОМ, который должен стать основой для коктейля.<br>Ответ: Корица [зачет: коричная халва] (крикет — смесь корицы с сахаром и сахаром; в оригинале \"крикикета\" — коктейль с сахаром и корицей, и напиток называется просто).<br><br>5\\. ТАК называется статья английского физика Джона Эверетта о влиянии на живые организмы химических веществ.... <br>Ответ: Теория сверхпроводимости. Источник(и):<br><br>2\\. http://ru.wikipedia.org/wiki/Крикет_(кстати)<br>",
            "text/plain": [
              "<IPython.core.display.Markdown object>"
            ]
          },
          "metadata": {
            "tags": []
          }
        },
        {
          "output_type": "display_data",
          "data": {
            "text/markdown": "<b>НАПИТКИ, С КОТОРЫХ БЛЮЁШЬ</b>",
            "text/plain": [
              "<IPython.core.display.Markdown object>"
            ]
          },
          "metadata": {
            "tags": []
          }
        },
        {
          "output_type": "display_data",
          "data": {
            "text/markdown": "1\\. Именно это вещество в настоящее время используется как тонизирующий компонент напитков.<br>Ответ: Пищеварительный тракт (пищевые красители).<br><br>2\\. Название именно этой французской компании, выпускавшей чай, стало нарицательным для понятия \"коктейльная\" [пищеварительный тракт].<br>Ответ: \"Кока-Кола\".<br><br>3\\. Именно эта группа, выступавшая на альбоме \"Heroes of Might & Magic\" в качестве вокалистки, стала лауреатом премии \"Грэмми\".<br>Ответ: \"Dead Poets\".<br><br>4\\. Именно этот коктейль в честь одного из своих главных героев придумал один из создателей компании \"Coca-Cola\".<br>Ответ: \"Сливки\".<br><br>5\\. Именно эта компания, в которую вошли и братья Стейниц, в прошлом веке была крупнейшим игроком на финансовом рынке Франции.... <br>Ответ: Coca-Cola [Cola-Ca-Cola].<br>",
            "text/plain": [
              "<IPython.core.display.Markdown object>"
            ]
          },
          "metadata": {
            "tags": []
          }
        },
        {
          "output_type": "display_data",
          "data": {
            "text/markdown": "<b>НАПИТКИ, С КОТОРЫХ БЛЮЁШЬ</b>",
            "text/plain": [
              "<IPython.core.display.Markdown object>"
            ]
          },
          "metadata": {
            "tags": []
          }
        },
        {
          "output_type": "display_data",
          "data": {
            "text/markdown": "1\\. Именно так называется одна из разновидностей кофе в Великобритании.<br>Ответ: Кофеварка.<br><br>2\\. Кофе, приготовленный по этому рецепту, называется \"корейская\" капуста.<br>Ответ: Кофе с молоком.<br><br>3\\. Именно эта группа людей, согласно одной из версий, является автором песни \"НапИть воды\".<br>Ответ: Группа Квартирников.<br><br>4\\. \"Кофейное зернышко\" стало одним из лучших произведений ЭТОГО русского КУРИТАНА.<br>Ответ: Петр Толстой.<br><br>5\\. \"Корейский кофе\" был изобретён в 1852 году на основе ЭТОЙ итальянской ПТИЦЫ, обитающей в горах.... <br>Ответ: Чайка. Источник(и):<br><br>2\\. http://ru.wikipedia.org/wiki/Сало_и_кек.<br>",
            "text/plain": [
              "<IPython.core.display.Markdown object>"
            ]
          },
          "metadata": {
            "tags": []
          }
        },
        {
          "output_type": "display_data",
          "data": {
            "text/markdown": "<b>НАПИТКИ, С КОТОРЫХ БЛЮЁШЬ</b>",
            "text/plain": [
              "<IPython.core.display.Markdown object>"
            ]
          },
          "metadata": {
            "tags": []
          }
        },
        {
          "output_type": "display_data",
          "data": {
            "text/markdown": "1\\. На Руси так назывался напиток, которым торговали, покупая в ларьке или киоске на улице.<br>Ответ: \"Супружеский поцелуй\".<br><br>2\\. В Китае это был напиток для улучшения вкуса и запаха пищи, который китайцы готовили, сидя за столом. А как его правильно варить?<br>Ответ: Стакан (в кипятке варили рис и муку).<br><br>3\\. В старину это было нечто вроде кисляка из водки или вина, а сейчас он стал популярен благодаря французскому поваренку.<br>Ответ: Шампанское {зачет: ликёр, коньяк}.<br><br>4\\. Этот американский поэт и литературный деятель прославился благодаря произведению под названием \"Пьяный путешественник\".<br>Ответ: Джон Донн.<br><br>5\\. Напитки из рома (спиртов, сицилийских вин и т. п.) были популярны в Древней Греции и Италии в эпоху республики. Они имели приятный вкус и приятный запах.... <br>Ответ: Лимончики.<br>",
            "text/plain": [
              "<IPython.core.display.Markdown object>"
            ]
          },
          "metadata": {
            "tags": []
          }
        },
        {
          "output_type": "display_data",
          "data": {
            "text/markdown": "<b>СМЕШНАЯ</b>",
            "text/plain": [
              "<IPython.core.display.Markdown object>"
            ]
          },
          "metadata": {
            "tags": []
          }
        },
        {
          "output_type": "display_data",
          "data": {
            "text/markdown": "1\\. ЭТО — самая распространенная форма брака в Древнем Риме, в отличие от более позднего периода, когда он не существовал.<br>Ответ: ЗАГС (в Древней Греции, а также в Византии, где брак заключался по согласию сторон).<br><br>2\\. Именно ТАКАЯ фамилия у одного персонажа известного советского фильма с участием Ивана Васильевича.<br>Ответ: Шукалкин (фильм называется: \"Шутка\".)<br><br>3\\. В Древней Руси ИХ было не так уж и мало: от двух до трех, и все — сказители. В Древнем Риме считалось долгом перед родными людьми, поэтому считалось, что у человека должна быть именно ТАКАЯ совесть, а у ребенка именно такое чувство.<br>Ответ: СТРЕМЫЕ.<br><br>4\\. ЭТОТ советский ФИЛЬМ был поставлен по мотивам романа Александра Островского \"Смешались в кучу кони\".<br>Ответ: \"Смешались в таз\" (в основу фильма был положен сюжет из \"Бриллиантовой свадьбы\").<br><br>5\\. ЭТА ПЕСНЬ Михаила Щербаковича стала первым советским мультфильмом.... <br>Ответ: СМЕШИНОЙ БЕЗ КОЗЛАКА (\"Козлик и три коровы\").<br>",
            "text/plain": [
              "<IPython.core.display.Markdown object>"
            ]
          },
          "metadata": {
            "tags": []
          }
        },
        {
          "output_type": "display_data",
          "data": {
            "text/markdown": "<b>СМЕШНАЯ</b>",
            "text/plain": [
              "<IPython.core.display.Markdown object>"
            ]
          },
          "metadata": {
            "tags": []
          }
        },
        {
          "output_type": "display_data",
          "data": {
            "text/markdown": "1\\. В стихотворении Александра Твардовского \"В лесу родилась елочка\" ЕГО зовут...<br>Ответ: Бобр.<br><br>2\\. В ЕГО честь названа группа, которая в 1980 году создала группу \"СМЕШАЛКА\".<br>Ответ: [Владимирский] КИМ [зачет: Ким Ир Сен] (группа посвящена памяти погибшего в авиакатастрофе).<br><br>3\\. В ЭТОМ ГОСУДАРСТВЕ родился Владимир Маяковский — а его супруга, кстати, тоже немка.<br>Ответ: Румыния (в фильме она сыграла главную женскую роль).<br><br>4\\. ЕЕ можно встретить в виде \"плотского\" и \"приветливого\" характера у некоторых представителей семейства астерисковых, которые живут в тропических лесах Азии, Северной Африки и на островах Тихого океана [1, 2, 3].<br>Ответ: Морская лисица (в песне группы она играет медсестру в госпитале).<br><br>5\\. ЕГО имя в английском языке пишется через дефис, что, в сущности, и неудивительно — ведь в английском языке существует более двадцати различных сочетаний.... <br>Ответ: СМЕШНЫЙ (symphony of turkey). Источник(и):<br><br>1\\. http://ru.wikipedia.org/wiki/Смешанная_и_приютливая;<br><br>2\\. http://ru.wikipedia.org/wiki/Ким Ир Сен;<br><br>3\\. http://ru.wikipedia.org/wiki/Смешанная;<br><br>4\\. БЭКМ, 2001.;<br><br>5\\. http://ru.wikipedia.org/wiki/Смешанная_группа<br>",
            "text/plain": [
              "<IPython.core.display.Markdown object>"
            ]
          },
          "metadata": {
            "tags": []
          }
        },
        {
          "output_type": "display_data",
          "data": {
            "text/markdown": "<b>СМЕШНАЯ</b>",
            "text/plain": [
              "<IPython.core.display.Markdown object>"
            ]
          },
          "metadata": {
            "tags": []
          }
        },
        {
          "output_type": "display_data",
          "data": {
            "text/markdown": "1\\. ЭТОМУ ПРОИЗВЕДЕНИЮ принадлежит и \"Соловей\", и \"Медведь\" (а название у этого произведения — смехотворное), и повесть \"Козел\" (которую тоже назвали смехотворной).<br>Ответ: СМЕШНЫЕ СОВЕСТИ.<br><br>2\\. В ЭТОТ ФИЛЬМ, по словам сценариста и режиссера Леонида Парфенова, \"действуют две смехотворные смеси\".<br>Ответ: \"ПРИЧИНА ПИШИТЕЛЯ И МУРЛИК\".<br><br>3\\. ЭТОТ ПОЛНОСТЬЮ ПРАЗДНИК отмечают, когда бьют петуха, а не по ошибке кладут в барабан кусок масла, например для того, чтоб он \"не улетел в трубу\".<br>Ответ: \"ПОЧИН ПОМЕРЫ\" (по-русски \"помер\").<br><br>4\\. ЭТО — и смехотворный, и грустный фильм, снятый в 1936 г., — был создан по пьесе М.Горького и поставлен по повести А.М. Горького.<br>Ответ: \"МЫ СДЕЛАЛИ ЭТО\".<br><br>5\\. ЭТОТ ФИЛЬм режиссера Леонида Папкова по повести А.П. Чехова был снят в 1938 г., и снят по рассказу А.П. Чеховова в 1939 г.... <br>Ответ: \"СМЕШАНО НАПИТЕЛЯ НА СТОЛИЦЕ\".<br>",
            "text/plain": [
              "<IPython.core.display.Markdown object>"
            ]
          },
          "metadata": {
            "tags": []
          }
        },
        {
          "output_type": "display_data",
          "data": {
            "text/markdown": "<b>ВОПРОСЫ ОТ ЗАКЛАДОЧНИКА РУСЛАНА</b>",
            "text/plain": [
              "<IPython.core.display.Markdown object>"
            ]
          },
          "metadata": {
            "tags": []
          }
        },
        {
          "output_type": "display_data",
          "data": {
            "text/markdown": "1\\. В ответе два слова. Ответ на этот вопрос должен состоять из двух слов. В одном из вопросов ОН был не один, а со своей собакой.<br>Ответ: Руслан из сериала \"Доктор Хаус\".<br><br>2\\. ЭТОТ русский КОМПОЗИТОР был убит в результате покушения на своего кузена князя Курбского, в котором принимал самое активное участие.<br>Ответ: [Василий Михайлович] Татищев.<br><br>3\\. По мнению одного из персонажей, ЭТОТ человек не смог бы жить, не будучи съеден собственным мясом.<br>Ответ: [Иван] Васильевич] Столыпин, который был отравлен ядом.<br><br>4\\. Именно ОН, согласно русской пословице, не птица.<br>Ответ: Иван Федорович Крузенштерн (\"Петр Иванович\").<br><br>5\\. Именно ТАК по-французски звучит слово mort. В русском языке его обычно называют \"малыш\" или \"девочка\", а в английском языке оно обозначает \"женщина\".... <br>Ответ: \"Поркюльоне\". Источник(и):<br><br>1\\. http://en.wikipedia.org/wiki/Ruslan_(super-fascist;<br><br>2\\. http://ru.wikipedia.org/wiki/Доктор_Хаус:_Русское_искусство;<br><br>3\\. http://en.wikipedia.org/wiki/Porcullon_(mallet);<br><br>4\\. http://en.wikipedia.org/wiki/Porcullon;<br><br>5\\. Мультфильм \"Русалочка\".<br>",
            "text/plain": [
              "<IPython.core.display.Markdown object>"
            ]
          },
          "metadata": {
            "tags": []
          }
        },
        {
          "output_type": "display_data",
          "data": {
            "text/markdown": "<b>ВОПРОСЫ ОТ ЗАКЛАДОЧНИКА РУСЛАНА</b>",
            "text/plain": [
              "<IPython.core.display.Markdown object>"
            ]
          },
          "metadata": {
            "tags": []
          }
        },
        {
          "output_type": "display_data",
          "data": {
            "text/markdown": "1) Что в России так любят говорить, что в ней нет ни грамма романтики<br>Ответ: \"Романовская\" 2) Что в России называют словом \"русское слово\" и \"великая литература\", почему оно не встречается во всех школьных учебниках по истории? 3) Как называется книга о Роланде? 4) Кто был прототипом Роланда? 5) Как называется фильм, рассказывающий о Роланде как о Наполеоне<br>Ответ: Роллан-д'Ивуар (пьеса называется \"Романс Наполеона\"...) 6) Что означает слово \"русская литература\" в \"Евгенье онеге\"\"... \nКомментарий: Речь шла о романе Роланда \"Русалка\" [зачет: по упоминанию романа \"Русалки\"] (Роман назывался \"Роман о Роланде\"). Источник(и):<br><br>1\\. \"Советский энциклопедический словарь\" под редакцией В.А.Кузищина, Н.Н.Суперанской, В.Н.Куприяновой, А.Н.Ботвинником и Н.И.Жеваго.;<br><br>2\\. Анекдот. — Т.<br><br>2\\.;<br><br>3\\. БЭС, 1988.;<br><br>4\\. Л.Воробьев \"Этюды о Роланде\" и другие сочинения русских литераторов. — М.: Политиздат, 1967;<br><br>5\\. http://lib.rus.ec/g/science/science_1985_read_3.shtml<br>",
            "text/plain": [
              "<IPython.core.display.Markdown object>"
            ]
          },
          "metadata": {
            "tags": []
          }
        },
        {
          "output_type": "display_data",
          "data": {
            "text/markdown": "<b>ВОПРОСЫ ОТ ЗАКЛАДОЧНИКА РУСЛАНА</b>",
            "text/plain": [
              "<IPython.core.display.Markdown object>"
            ]
          },
          "metadata": {
            "tags": []
          }
        },
        {
          "output_type": "display_data",
          "data": {
            "text/markdown": "1\\. В этом рассказе Николая Васильевича Бунина рассказывается о жизни и подвигах русских первопроходцев через Северный полюс ионосферный шар в течение нескольких столетий после открытия Америки.<br><br>2\\. Этот русский поэт был участником экспедиции в Антарктиду.<br>Ответ: Александр Грин.<br><br>3\\. В этом произведении Николая Васильевича Бунина рассказывается о жизни и подвигах двух русских первопроходцев на Северный полюс, о жизни и творчестве Николая Гумилева.<br>Ответ: \"Похождения бравого солдата Швейка в солдаты\" {незачет: \"Похождения бравого солдата Швейка в солдаты\"}.<br><br>4\\. Именно этот вопрос задают себе люди, ответившим именно так.... <br>Ответ: Что им ответить?<br>Ответ: \"Что они хотят? Что им нужно?\" {зачет: по цитате или по упоминанию вопроса}.<br><br>5\\. Именно этот вопрос задается тем же вопросом у Николая Васильевича в романе \"Двенадцать стульев\".... <br>Ответ: \"А как называется город на Северном полюсе?\".<br>",
            "text/plain": [
              "<IPython.core.display.Markdown object>"
            ]
          },
          "metadata": {
            "tags": []
          }
        }
      ]
    },
    {
      "cell_type": "markdown",
      "metadata": {
        "id": "W6IBHcrCEyId"
      },
      "source": [
        "## Больше отупения!\r\n",
        "\r\n",
        "Хотите попробовать другие фразы? Тогда впишите их в клетку под этим текстом, как до этого, и запустите код ниже. Не забудьте поменять `%%writefile input.txt` на `%%writefile input_with_lines.txt`, если ваши запросы содержат переносы строк!"
      ]
    },
    {
      "cell_type": "code",
      "metadata": {
        "colab": {
          "base_uri": "https://localhost:8080/"
        },
        "id": "yd0o8O28E0IJ",
        "outputId": "2a3a76c9-be81-4b0e-aeb1-be8b5c3940f8"
      },
      "source": [
        "%%writefile input.txt\r\n"
      ],
      "execution_count": null,
      "outputs": [
        {
          "output_type": "stream",
          "text": [
            "Overwriting input.txt\n"
          ],
          "name": "stdout"
        }
      ]
    },
    {
      "cell_type": "code",
      "metadata": {
        "colab": {
          "base_uri": "https://localhost:8080/",
          "height": 1000
        },
        "id": "YEGt_2-mRvN-",
        "cellView": "form",
        "outputId": "9baec67f-c83b-43d9-b747-a67d74b7de84"
      },
      "source": [
        "#@markdown ### Генерируем новую выдачу\r\n",
        "\r\n",
        "Повторов = 3  #@param {\"type\": \"integer\"}\r\n",
        "takes = Повторов\r\n",
        "\r\n",
        "if takes < 1:\r\n",
        "  takes = 1\r\n",
        "  print(\"Маловато повторов. Установлено значение \" + str(takes) + \".\")\r\n",
        "if takes > 30:\r\n",
        "  takes = 30\r\n",
        "  print(\"Многовато повторов. Установлено значение \" + str(takes) + \".\")\r\n",
        "if type(takes) != int:\r\n",
        "  takes = 4\r\n",
        "  print(\"Что-то пошло не так с количеством повторов. Установлено значение \" + str(takes) + \".\")\r\n",
        "\r\n",
        "s = \"\"\r\n",
        "\r\n",
        "if not is_empty(\"input_with_lines.txt\"):\r\n",
        "  with open(\"input_with_lines.txt\", \"r\", encoding=\"utf-8\") as intxt:\r\n",
        "    prompts = [get_lbc(model_meta).join([sp for sp in p.split(\"\\n\") if sp]) for p in intxt.read().split(\"\\n\\n\") if p]\r\n",
        "else:\r\n",
        "  with open(\"input.txt\", \"r\", encoding=\"utf-8\") as intxt:\r\n",
        "    prompts = [p for p in intxt.read().split(\"\\n\") if p]\r\n",
        "\r\n",
        "for prompt in prompts:\r\n",
        "  s += (model_meta['prompt'] % prompt + '\\n') * takes\r\n",
        "\r\n",
        "with open(\"rawi.txt\", \"w\", encoding=\"utf-8\") as rawo:\r\n",
        "  rawo.write(s)\r\n",
        "\r\n",
        "Бредовость = 25 #@param {type: \"slider\", min: 0, max: 100, step: 25}\r\n",
        "stlv = Бредовость\r\n",
        "\r\n",
        "Повторяться = False   # @param {\"type\": \"boolean\"}\r\n",
        "add_randomness = not Повторяться\r\n",
        "\r\n",
        "rs = random.choice(list(range(0, 10000))) if add_randomness else 42\r\n",
        "printmd(\"Ключ случайного значения: **\"+str(rs)+\"**\")\r\n",
        "\r\n",
        "responses = !python generate_transformers.py \\\r\n",
        "    --model_type=gpt2 \\\r\n",
        "    --model_name_or_path={model} \\\r\n",
        "    --k={str(stup_cases[stlv][\"k\"])} \\\r\n",
        "    --p={str(stup_cases[stlv][\"p\"])} \\\r\n",
        "    --seed={str(rs)} \\\r\n",
        "    --temperature={str(stup_cases[stlv][\"temp\"])} \\\r\n",
        "    --repetition_penalty=1.0 \\\r\n",
        "    --stop_token=\"{model_meta['sequence_end_character']}\" \\\r\n",
        "    --length=500 < rawi.txt 2>/dev/null\r\n",
        "\r\n",
        "responses = \"\\n\".join(list(responses))\r\n",
        "\r\n",
        "lbc = model_meta[\"line_break_character\"]\r\n",
        "ssc = model_meta[\"sequence_start_character\"]\r\n",
        "sec = model_meta[\"sequence_end_character\"]\r\n",
        "prompt = re.sub(r\"%[a-z]+\", \"(.*?)\", model_meta[\"prompt\"])\r\n",
        "\r\n",
        "resps = [r for r in responses.split(\"Context >>> ruGPT:\\n\") if r]\r\n",
        "sps = [sp for sp in s.split(\"\\n\") if sp]\r\n",
        "for sp, resp in zip(sps, resps):\r\n",
        "  pt = re.search(re.sub(r\"%[a-z]+\", \"(.*)\", re.escape(model_meta[\"prompt\"])), sp).group(1)\r\n",
        "  rs, _ = re.findall(re.compile(re.escape(sp) + r\"\\n?(.*?)(\" + ssc + \"|$)\", flags=re.DOTALL), resp)[0]\r\n",
        "  pt = \"<br>\".join(\"<b>\" + p + \"</b>\" for p in re.split(lbc, pt) if p)\r\n",
        "  printmd(pt)\r\n",
        "  rs = re.sub(lbc, \"<br>\", rs).strip()\r\n",
        "  rs = re.sub(r\"([^\\s])<br>([^\\s])\", r\"\\1 <br> \\2\", rs)\r\n",
        "  if Модель == \"Нейросвояк\":\r\n",
        "    rs = re.sub(r\"\\s([0-9]0?)\\.\", r\"<br><br>\\1\\\\.\", rs)\r\n",
        "    rs = rs.replace(\"1. \", \"1\\. \")\r\n",
        "    rs = re.sub(r\"\\s((?:Ответ: )|(?:Источник[а-яё()]: ))\", r\"<br>\\1\", rs)\r\n",
        "    sq = re.search(r\"Автор[а-яё()]?: \", rs)\r\n",
        "    if sq:\r\n",
        "      rs = rs[:sq.start() - 1]\r\n",
        "  rse = len(rs) if rs.find(\"Context >>\") == -1 else rs.find(\"Context >>\")\r\n",
        "  printmd(rs[:rse] + \"<br>\")"
      ],
      "execution_count": 16,
      "outputs": [
        {
          "output_type": "display_data",
          "data": {
            "text/markdown": "Ключ случайного значения: **6724**",
            "text/plain": [
              "<IPython.core.display.Markdown object>"
            ]
          },
          "metadata": {
            "tags": []
          }
        },
        {
          "output_type": "display_data",
          "data": {
            "text/markdown": "<b>ТЕМА КОНЬЯ</b>",
            "text/plain": [
              "<IPython.core.display.Markdown object>"
            ]
          },
          "metadata": {
            "tags": []
          }
        },
        {
          "output_type": "display_data",
          "data": {
            "text/markdown": "(В каждом ответе — по два слова.)<br><br>1\\. ЭТОТ КЛУБ, единственный из российских, в который входят два футбольных клуба, носит имя своего основателя — Владимира Ивановича Коровина.<br>Ответ: ККМ.<br><br>2\\. Именно ТАК в Древней Руси назывался воинский чин.<br>Ответ: Князь.<br><br>3\\. ЭТОТ ЧЕЛОВЕК, один из создателей теории эволюции, первым в России выступил на научной конференции по проблеме происхождения видов и предложил методы селекции и воспроизводства.<br>Ответ: К.Н.Румянцев.<br><br>4\\. ЭТОТ КЛУБ — единственная команда России, которая выступает на чемпионатах Европы и мира, а еще один клуб в КХЛ. А вот один из его игроков в прошлом году выступал на чемпионатах России.<br>Ответ: \"СиБ\" (Борис Березовский, \"Сибиряков\").<br><br>5\\. ОН является автором романа \"Собор парижской богоматери\".... <br>Ответ: Мишель де Бовуар. Источник(и):<br><br>3\\. \"Советский спорт\". 1992. — Т. 1, с. 475.;<br><br>4\\. В. И. Ленин. Энциклопедический Словарь. — С. 329, 328.;<br><br>5\\. \"Комсомольская правда\" от 26.09.99 г.<br>",
            "text/plain": [
              "<IPython.core.display.Markdown object>"
            ]
          },
          "metadata": {
            "tags": []
          }
        },
        {
          "output_type": "display_data",
          "data": {
            "text/markdown": "<b>ТЕМА КОНЬЯ</b>",
            "text/plain": [
              "<IPython.core.display.Markdown object>"
            ]
          },
          "metadata": {
            "tags": []
          }
        },
        {
          "output_type": "display_data",
          "data": {
            "text/markdown": "1\\. В ЭТОМ СЕРИАЛЕ фигурирует \"Кон-Тики\" и, конечно, сам король.<br>Ответ: [Кукольный] мюзикл [мультсериал] \"Фантастическое путешествие\".<br><br>2\\. ЭТОГО ЧЕЛОВЕКА называли и в честь \"королевы-вороны\", и в честь \"короля-рыбу\".<br>Ответ: Кондор [Финнеса] {зачет: Тор (королевич Кондор)} (фильм \"Король-рыба\").<br><br>3\\. ЭТОТ ПОЛУЗАЩИТНИК, в честь которого названа \"королева-рыба\" и который является одним из главных героев мультфильма, получил в 2006 году Нобелевскую премию по литературе.<br>Ответ: [Кондор] Дюрвиль.<br><br>4\\. ЭТОМУ ЧЕЛОВЕКУ приписывают создание \"Королевы меча и магии\".<br>Ответ: [Кондор] [Кэрол].<br><br>5\\. В честь ЭТОГО ЧЕЛОВЕКА названы и \"Конь в мехах\", и \"Конь в доспехах\" в одноименной повести Александра Беляева.... <br>Ответ: [Конкорд] [Роберт] де Филип. Источник(и): 1-5. БЭКМ, 2000.;<br><br>2\\. http://lib.ru/INPROJECTION/CHUBARY_DEPTION;<br><br>3\\. http://www.flibusta.net/b/294498/read;<br><br>4\\. http://lib.ru/INPROJECTION/chuka/book.txt;<br><br>5\\. http://ru.wikipedia.org/wiki/Филип<br>",
            "text/plain": [
              "<IPython.core.display.Markdown object>"
            ]
          },
          "metadata": {
            "tags": []
          }
        },
        {
          "output_type": "display_data",
          "data": {
            "text/markdown": "<b>ТЕМА КОНЬЯ</b>",
            "text/plain": [
              "<IPython.core.display.Markdown object>"
            ]
          },
          "metadata": {
            "tags": []
          }
        },
        {
          "output_type": "display_data",
          "data": {
            "text/markdown": "1\\. Именно эта часть туловища является самым крупным из всех животных<br>Ответ: Каньон<br><br>2\\. Именно эта разновидность вола была основным тягловитым животным на Руси<br>Ответ: Кобыла<br><br>3\\. В этом фильме роль генерала армии в фильме сыграла Ольга Астахова<br>Ответ: \"Конек-горбунок\"<br><br>4\\. Именно эта группа спела про \"коньков-горбунков\".<br>Ответ: \"Алиса\"<br><br>5\\. Этот вид лошади был основным тяглом животным в доримских армиях.... <br>Ответ: Конский конь<br>",
            "text/plain": [
              "<IPython.core.display.Markdown object>"
            ]
          },
          "metadata": {
            "tags": []
          }
        },
        {
          "output_type": "display_data",
          "data": {
            "text/markdown": "<b>НАПИТКИ, С КОТОРЫХ БЛЮЁШЬ</b>",
            "text/plain": [
              "<IPython.core.display.Markdown object>"
            ]
          },
          "metadata": {
            "tags": []
          }
        },
        {
          "output_type": "display_data",
          "data": {
            "text/markdown": "1\\. \"В наших жилах кровь некислой, а в них кипятком кипятят\".<br>Ответ: В \"Своей игре\".<br><br>2\\. Именно в этой стране был выпущен знаменитый джин \"Сухой апельсин\".<br>Ответ: В Англии.<br><br>3\\. Этот коктейль, ставший популярным в начале прошлого века благодаря роману Эдгара По, получил название \"Шотландская вишня\", и был назван в честь одноименной страны.<br>Ответ: Бургундия (от Бургундии и произошло название вишневого коктейля, который был популярен во всём Соединённых Штатах).<br><br>4\\. В этом советском фильме, кроме обычных, снимался известный советский актёр театра и кино, лауреат Сталинской премии Михаил Малкин, и в фильме режиссёра Александра Сокурова.<br>Ответ: \"Повар в ресторане\" (за сценарий к этому советскому кинофильму, в котором снимались Борис Мездри, Олег Ефремов и другие).<br><br>5\\. Именно этот американский город в штате Миссисипи, где находится крупнейший в стране музей оружия, получил прозвище \"Шорт\".... <br>Ответ: Нью-Йорк (в США — аэропорт).<br>",
            "text/plain": [
              "<IPython.core.display.Markdown object>"
            ]
          },
          "metadata": {
            "tags": []
          }
        },
        {
          "output_type": "display_data",
          "data": {
            "text/markdown": "<b>НАПИТКИ, С КОТОРЫХ БЛЮЁШЬ</b>",
            "text/plain": [
              "<IPython.core.display.Markdown object>"
            ]
          },
          "metadata": {
            "tags": []
          }
        },
        {
          "output_type": "display_data",
          "data": {
            "text/markdown": "1\\. ЭТОТ СЫН писателя-фантаста был в числе тех, кто принес с собой на небо стакан с напитками \"Пивной дождь\".<br>Ответ: Роберт Льюис Стивенсон.<br><br>2\\. В честь ЕЕ изобретателя назван прибор с жидкотримметрным преобразтелем тока.<br>Ответ: Электрическая лампочка [зачет: люстра].<br><br>3\\. По одной из легенд, ЕГО изобрёл монах, который принес в жертву свою жену ради улучшения положения больных.<br>Ответ: [Стефан] УБОТЛИЦ.<br><br>4\\. ЭТОГО КОМБИНАТОРА называли \"Кока-Кола\", так как его отец, химик и изобретатель назвали сына в его честь.<br>Ответ: (Генрик] УАСС.<br><br>5\\. В честь ЭТОГО ЧЕЛОВЕКА названы напитки \"Китикет и крэйн-кэб\".... <br>Ответ: (Фредерик Уэлбек).<br>",
            "text/plain": [
              "<IPython.core.display.Markdown object>"
            ]
          },
          "metadata": {
            "tags": []
          }
        },
        {
          "output_type": "display_data",
          "data": {
            "text/markdown": "<b>НАПИТКИ, С КОТОРЫХ БЛЮЁШЬ</b>",
            "text/plain": [
              "<IPython.core.display.Markdown object>"
            ]
          },
          "metadata": {
            "tags": []
          }
        },
        {
          "output_type": "display_data",
          "data": {
            "text/markdown": "1\\. В одной шутке ОНА предлагала: \"Ты знаешь, что такое — питье из пакетиков, а я буду варить их сама, и тогда они будут пахнуть корицей.<br>Ответ: Сахарная вата (напитки \"сахарная вата\").<br><br>2\\. ЭТОТ традиционный ПИКС содержит кофе и сахар, а также лимон и лимонную цедру.<br>Ответ: Пудель (в переводе — пюре).<br><br>3\\. Напитка, изобретенного английским химиком Томасом Лидбергом, чтобы согреться, в Великобритании называют напитком с таким названием.<br>Ответ: \"Кок-Кай\" [кок-кай-ай] (в честь шотландского виски).<br><br>4\\. По словам Э.Вартаньян, в Древней Греции так назывался сосуд для принятия горячей ванны.<br>Ответ: Кипучая вода.<br><br>5\\. В ЭТОМ ГОСУДАРСТВЕ, основанном в 1453 г. и просуществовавшего с 1761 до 1918 гг., находится музей \"Сахарная вата\".... <br>Ответ: Ватикана. Комментарий:<br><br>4\\. Кипучая вода. Источник(и):<br><br>3\\. http://ru.wikipedia.org/wiki/Коктейли;<br><br>4\\. http://en.wikipedia.org/wiki/Coca-Cola_and_Chocolates http://ru.wikipedia.org/wiki/Коктейли_(коктейльная_вредина);<br><br>5\\. http://ru.wikipedia.org/wiki/Пироговая_вина<br>",
            "text/plain": [
              "<IPython.core.display.Markdown object>"
            ]
          },
          "metadata": {
            "tags": []
          }
        },
        {
          "output_type": "display_data",
          "data": {
            "text/markdown": "<b>СМЕШНАЯ</b>",
            "text/plain": [
              "<IPython.core.display.Markdown object>"
            ]
          },
          "metadata": {
            "tags": []
          }
        },
        {
          "output_type": "display_data",
          "data": {
            "text/markdown": "10. Именно так называется один из видов смешариков с добавлением сахара и желатина.<br>Ответ: СМЕШОК.<br><br>20\\. Именно это слово в переводе с греческого означает \"смешная\".<br>Ответ: СМЕШНЫЙ. 21\\. В переводе с немецкого — смешная. А что означают два этих прилагательных?<br>Ответ: КРУЖОК и КРЕСТОК (в немецком языке). 23. Именно такое название получила игра, придуманная одним известным американским писателем для мальчиков.<br>Ответ: ПИРУГА С ТРЕМ. 24. В этом фильме, рассказывающего о жизни американских школьников-ботаников, главные герои — дети-школьники, живущие в разных местах страны, в разных странах мира.<br>Ответ: ПЕВИЦА С ТРИЛОМ.<br><br>50\\. Именно так называется песня группы \"ДДТ\", в которой есть слова \"Смешная, грустная, больна я...\".... <br>Ответ: ПИРАТИЧЕСКАЯ ПЬЯНАЯ.<br>",
            "text/plain": [
              "<IPython.core.display.Markdown object>"
            ]
          },
          "metadata": {
            "tags": []
          }
        },
        {
          "output_type": "display_data",
          "data": {
            "text/markdown": "<b>СМЕШНАЯ</b>",
            "text/plain": [
              "<IPython.core.display.Markdown object>"
            ]
          },
          "metadata": {
            "tags": []
          }
        },
        {
          "output_type": "display_data",
          "data": {
            "text/markdown": "10. Так называется способ решения математических операций.<br>Ответ: Путанология<br><br>20\\. Именно этот русский математик, родившийся и умерший в Санкт-Петербурге, является одним из разработчиков теории вероятностей.<br>Ответ: Ломоносов<br><br>30\\. Именно этот математик, родившийся в Санкт-Петербурге, был первым президентом Петербургской Академии Наук.<br>Ответ: Н.А. Некрасов<br><br>40\\. В начале XX века в США насчитывалось около полусотни лабораторий именно этого типа, а сейчас это крупнейшие университеты мира.<br>Ответ: Психиатрические<br><br>50\\. Таково другое название теории относительности, предложенная Эйнштейном.... <br>Ответ: Спутниковое искривление природы<br>",
            "text/plain": [
              "<IPython.core.display.Markdown object>"
            ]
          },
          "metadata": {
            "tags": []
          }
        },
        {
          "output_type": "display_data",
          "data": {
            "text/markdown": "<b>СМЕШНАЯ</b>",
            "text/plain": [
              "<IPython.core.display.Markdown object>"
            ]
          },
          "metadata": {
            "tags": []
          }
        },
        {
          "output_type": "display_data",
          "data": {
            "text/markdown": "1\\. ЭТОТ СТЕКЛОМАТИК является аналогом обычного стекла в стакане.<br>Ответ: ПЭНТЕКЛО [зачет: пЭНТИК-пистолет].<br><br>2\\. ЭТУ СТРУГУ можно видеть и на гербах городов в Польше (Галичина и Новоград-Волынского, Краков и Любек), и на флаге ЭТОГО ГОСУДАРСТВА.<br>Ответ: БЕЛАРУСЬ.<br><br>3\\. ЭТУ СТЕКЛОМОДИНУ в Великобритании иногда ошибочно считают самой длинной в мире — всего 16 км, — но ее название в переводе с греческого означает \"небольшая\" или даже \"маленькая\".<br>Ответ: ПЕЧЕНЬ. Зачет: ПЕЧЕНЬ [зачет: печалинка].<br><br>4\\. В ЭТОЙ СТРАНЕ, кроме США, есть еще и Австралия.<br>Ответ: ЯНВАРЬ. Зачет: Января (в некоторых случаях в этом есть еще и название).<br><br>5\\. ЭТУ СТРОКУ можно услышать и на знаменитейшем в прошлом мультфильме про Винни-Пух и всех-всех-всех (в частности, про Винни-Пуха, который умел считать до ста).... <br>Ответ: КАРТИНА \"ВСЕ МОЖНО ПОЛУУПОМИНАТЬ\" (фильм называется \"Картина Пьеро, или Смерть Винни-Пуха и все-все-все\" по пьесе М. Горького). Источник(и):<br><br>1\\. http://www.karaoke.ru/articles/karatekcii-vyny-pokrovicy-samye-kotorye-vypushki;<br><br>2\\. http://www.bugaga-pok.ru/film/7018;<br><br>3\\. http://www.svoboda.org/a/14546634/people/vs/article-11646633.html?from=fb#video_id_14957913;<br><br>4\\. http://www.svoboda.org/a/13959318/people/vs/article-1196467.html;<br><br>5\\. http://ru.wikipedia.org/wiki/Вини-Пух Автор:<br>",
            "text/plain": [
              "<IPython.core.display.Markdown object>"
            ]
          },
          "metadata": {
            "tags": []
          }
        },
        {
          "output_type": "display_data",
          "data": {
            "text/markdown": "<b>ВОПРОСЫ ОТ ЗАКЛАДОЧНИКА РУСЛАНА</b>",
            "text/plain": [
              "<IPython.core.display.Markdown object>"
            ]
          },
          "metadata": {
            "tags": []
          }
        },
        {
          "output_type": "display_data",
          "data": {
            "text/markdown": "1\\. Именно этот советский скульптор является автором картины, на которую были вынесены слова: \"Я не знаю, кто эта девушка, но она мне очень нравится\"<br>Ответ: [Элизабет] Руссо<br><br>2\\. В стихотворении, написанном именно под влиянием ЭТОЙ ПРОЦЕДУРЫ, говорится, что \"наше время, время великих перемен\".<br>Ответ: Перемены<br><br>3\\. В ответе надо указать имя человека.<br>Ответ: [Лев Давидович] Троцкий<br><br>4\\. Именно он написал картину с упоминанием темы.<br>Ответ: [Владимир Ильич) Чижевский<br><br>5\\. На самом деле это были слова \"Я не знаю\", но, по-видимому, они были произнесены вслух.... <br>Ответ: Владимир Ленин<br>",
            "text/plain": [
              "<IPython.core.display.Markdown object>"
            ]
          },
          "metadata": {
            "tags": []
          }
        },
        {
          "output_type": "display_data",
          "data": {
            "text/markdown": "<b>ВОПРОСЫ ОТ ЗАКЛАДОЧНИКА РУСЛАНА</b>",
            "text/plain": [
              "<IPython.core.display.Markdown object>"
            ]
          },
          "metadata": {
            "tags": []
          }
        },
        {
          "output_type": "display_data",
          "data": {
            "text/markdown": "(Тема посвящена людям с очень высоким IQ.) В начале своей книги О НЕМ Владимир Набоков сказал: \"Он не из тех, кому легко с собой....Он просто человек с очень крепким здоровьем, который много знает, много читает, но никогда никому не говорит об этом\".... <br>Ответ: Михаил БУХАРИН (зачет: Михаил БУХАРИН-младший и Александр БУХАРИН-младший соответственно; Набоков назвал Михаила БАРИНА человеком с крепким сердцем, который много знает, много пишет, но никогда никому не говорит об этом). Источник(и):<br><br>1\\. https://books.google.ru/books?id=kAQJgAwAQ&pg=PAA#v=onepage&q&f=false<br>",
            "text/plain": [
              "<IPython.core.display.Markdown object>"
            ]
          },
          "metadata": {
            "tags": []
          }
        },
        {
          "output_type": "display_data",
          "data": {
            "text/markdown": "<b>ВОПРОСЫ ОТ ЗАКЛАДОЧНИКА РУСЛАНА</b>",
            "text/plain": [
              "<IPython.core.display.Markdown object>"
            ]
          },
          "metadata": {
            "tags": []
          }
        },
        {
          "output_type": "display_data",
          "data": {
            "text/markdown": "1\\. Этот вопрос задается на странице Википедия, а не в разделе \"Ссылки\", как в ответе. Ответ \"О чем речь?\".<br><br>2\\. В этой песне группы \"Наутилус Помпилиус\" упоминается, в частности, вопрос: а где же находится эта улица.<br>Ответ: На Васильевском Острове. Зачет: По аналогии с \"Анастасиевской\".<br><br>3\\. Этот советский киноактер был режиссером-постановщиком картины о советском школьнике В.И. Чапаеве и сыграл его в фильмах \"Победа\", \"Демон\" и других.<br>Ответ: Александр Татарский (\"Поручик Казанский\").<br><br>4\\. В фильме Александра Казанского в фильме \"Остров Сахалин\" рассказывается, как на берегу Тихого океана русский офицер Иван Федорович находит в развалинах заброшенную мельницу.<br>Ответ: \"Остров погибших моряков\" (фильмы \"Сотворение мира\" (1953), \"Человек и закон\" (1957), \"Человек в футуре\" (1984), \"Человек в черном ботинке\" и многие другие).<br><br>5\\. В этой повести писателя Михаила Жванецкого рассказывается, как на самом деле звали отца Александра Сергеевича.... <br>Ответ: \"О чем говорят мужчины\".\n<br>",
            "text/plain": [
              "<IPython.core.display.Markdown object>"
            ]
          },
          "metadata": {
            "tags": []
          }
        }
      ]
    },
    {
      "cell_type": "markdown",
      "metadata": {
        "id": "3nfmtAaqcFrQ"
      },
      "source": [
        "На этом всё. Получайте удовольствие (надеюсь)!"
      ]
    }
  ]
}